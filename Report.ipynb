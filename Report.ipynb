{
 "cells": [
  {
   "cell_type": "markdown",
   "metadata": {},
   "source": [
    "# Finding The Developed and UnderDeveloped Districts in TamilNadu"
   ]
  },
  {
   "cell_type": "markdown",
   "metadata": {},
   "source": [
    "### Table of Contents\n",
    "\n",
    "1. Introduction\n",
    "2. Data Section"
   ]
  },
  {
   "cell_type": "markdown",
   "metadata": {},
   "source": [
    "   ## Introduction"
   ]
  },
  {
   "cell_type": "markdown",
   "metadata": {},
   "source": [
    "   This project aims to find the Districts which are developed and underdeveloped in Tamil Nadu. With the help of Four Square Data, The venues in Different districts have been collected. The collected data contains venue category and also give the exact location of the venue.\n",
    "       By using this data from Four Square we can do the exploratory analysis of data and group them based on their similarities. based on the venue data the districts have grouped by using a Machine Learning algorithm called K-means Algorithm. By finding the areas which are underdeveloped can help the persons who are trying to open venues in that particular District. And also by finding the areas which are developed can be used to get more insights about the district. We can know more about the district which are underdeveloped and it can give us enough information about the diffrent venues and based on that we can recommand a person to open a venue on that district."
   ]
  },
  {
   "cell_type": "markdown",
   "metadata": {},
   "source": [
    "## Scope\n",
    "1. The scope of this project is to create a clustering machine learning model which groups the districts based on there similarities.\n",
    "2. This project use Datas from the Four Square which gives the information about a location.\n",
    "3. This project groups the districts based on the venue data from from Four Square"
   ]
  },
  {
   "cell_type": "markdown",
   "metadata": {},
   "source": [
    "## Data Section"
   ]
  },
  {
   "cell_type": "markdown",
   "metadata": {},
   "source": [
    "**List of Districts**\n",
    "\n",
    "The list of Districts were extracted from wikipedia https://en.wikipedia.org/wiki/List_of_districts_of_Tamil_Nadu\n",
    "this lists district and it also has additional information of the districts like area of the district, population density, capital of the district, diffrent Taluks in the district in the district, and Code of the district.\n",
    "\n",
    "**Latitude and Longitude**\n",
    "\n",
    "The Latitude and Longitude of different district are provided by Python library called **GioPy**. By giving the code and name of the district we can get the Latitude and Longitude of the district. GioPy sometimes gives error during the process so we should be careful by using try-exec in python.\n",
    "\n",
    "**Four Square Data**\n",
    "\n",
    "Foursquare is a social location service that allows users to explore the world around them.The Foursquare API allows application developers to interact with the Foursquare platform. The API itself is a RESTful set of addresses to which you can send requests, so there's really nothing to download onto your server.\n",
    "We can explore the venues around us by difining the Latitude and Longitude. It gives the list of Venues.\n",
    "In this project we get the venues of different district and we use it to find similarity between the districts."
   ]
  },
  {
   "cell_type": "markdown",
   "metadata": {},
   "source": []
  }
 ],
 "metadata": {
  "kernelspec": {
   "display_name": "Python 3",
   "language": "python",
   "name": "python3"
  },
  "language_info": {
   "codemirror_mode": {
    "name": "ipython",
    "version": 3
   },
   "file_extension": ".py",
   "mimetype": "text/x-python",
   "name": "python",
   "nbconvert_exporter": "python",
   "pygments_lexer": "ipython3",
   "version": "3.8.5"
  }
 },
 "nbformat": 4,
 "nbformat_minor": 4
}
