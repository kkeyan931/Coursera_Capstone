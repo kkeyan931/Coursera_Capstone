{
 "cells": [
  {
   "cell_type": "markdown",
   "metadata": {},
   "source": [
    "# Finding The Developed and UnderDeveloped Districts in TamilNadu"
   ]
  },
  {
   "cell_type": "markdown",
   "metadata": {},
   "source": [
    "### Table of Contents\n",
    "\n",
    "1. Introduction\n",
    "2. Data Section"
   ]
  },
  {
   "cell_type": "markdown",
   "metadata": {},
   "source": [
    "   # 1.Introduction"
   ]
  },
  {
   "cell_type": "markdown",
   "metadata": {},
   "source": [
    "   This project aims to find the Districts which are developed and underdeveloped in Tamil Nadu. With the help of Four Square Data, The venues in Different districts have been collected. The collected data contains venue category and also give the exact location of the venue.\n",
    "       By using this data from Four Square we can do the exploratory analysis of data and group them based on their similarities. based on the venue data the districts have grouped by using a Machine Learning algorithm called K-means Algorithm. By finding the areas which are underdeveloped can help the persons who are trying to open venues in that particular District. And also by finding the areas which are developed can be used to get more insights about the district. We can know more about the district which are underdeveloped and it can give us enough information about the diffrent venues and based on that we can recommand a person to open a venue on that district."
   ]
  },
  {
   "cell_type": "markdown",
   "metadata": {},
   "source": [
    "#### 1.1.Business Problem"
   ]
  },
  {
   "cell_type": "markdown",
   "metadata": {},
   "source": [
    "In this project we can find the developed and underdeveloped areas in TamilNadu. this helps to establish a venue in a underdeveloped area so that we can get more profit there and at the same time we don't have competitors. and also by knowing the developed area we can get more insights about the area and it can give us the idea of what type of venue to open in that area.\n"
   ]
  },
  {
   "cell_type": "markdown",
   "metadata": {},
   "source": [
    "#### 1.2.Scope\n",
    "1. The scope of this project is to create a clustering machine learning model which groups the districts based on there similarities.\n",
    "2. This project use Datas from the Four Square which gives the information about a location.\n",
    "3. This project groups the districts based on the venue data from from Four Square"
   ]
  },
  {
   "cell_type": "markdown",
   "metadata": {},
   "source": [
    "# 2. Data acquisition and cleaning"
   ]
  },
  {
   "cell_type": "markdown",
   "metadata": {},
   "source": [
    "### 2.1. Data Sources\n",
    "**2.1.1.List of Districts**\n",
    "\n",
    "The list of Districts were extracted from wikipedia https://en.wikipedia.org/wiki/List_of_districts_of_Tamil_Nadu\n",
    "this lists district and it also has additional information of the districts like area of the district, population density, capital of the district, diffrent Taluks in the district in the district, and Code of the district.\n",
    "\n",
    "**Example**\n",
    "\n",
    "| District | Code | Area | Population | Taluks |\n",
    "|----------|------|------|------------|--------|\n",
    "| Ariyalur | AR   | 1949 | 754,894    | Ariyalur |\n",
    "| Chengalpattu |CGL | 2,944.96 |2,556,244 |Chengalpattu|\n",
    "\n",
    "here only the District name,District code and population are extracted.\n",
    "\n",
    "**2.1.2.Latitude and Longitude**\n",
    "\n",
    "The Latitude and Longitude of different district are provided by Python library called **GioPy**. By giving the code and name of the district we can get the Latitude and Longitude of the district. GioPy sometimes gives error during the process so we should be careful by using try-exec in python.\n",
    "\n",
    "using **GioPy** Latitude and Longitude are extracted\n",
    "\n",
    "**Example**\n",
    "\n",
    "| District | Code | Area | Population | Taluks | Latitude | Longitude|\n",
    "|----------|------|------|------------|--------|----------|----------|\n",
    "| Ariyalur | AR   | 1949 | 754,894    | Ariyalur |11.076036 |79.117455|\n",
    "| Chengalpattu |CGL | 2,944.96 |2,556,244 |Chengalpattu|12.684089|79.983637|\n",
    "\n",
    "\n",
    "**2.1.3.Four Square Data**\n",
    "\n",
    "Foursquare is a social location service that allows users to explore the world around them.The Foursquare API allows application developers to interact with the Foursquare platform. The API itself is a RESTful set of addresses to which you can send requests, so there's really nothing to download onto your server.\n",
    "We can explore the venues around us by difining the Latitude and Longitude. It gives the list of Venues.\n",
    "In this project we get the venues of different district and we use it to find similarity between the districts.\n",
    "\n",
    "|No| District | Latitude| Longitude | Venue | venue Latitude | Venue Longitude | Venue Category |\n",
    "|--|----------|---------|-----------|-------|----------------|-----------------|----------------|\n",
    "| 0 | Chengalpattu | 12.684089 | 79.983637 | SRK | 12.698709 | 79.970428 | Movie Theater\n",
    "| 1 | Chengalpattu | 12.684089 | 79.983637 | Latha Cinemas | 12.680661 |  79.980511 | Movie Theater\n",
    "| 2 | Chengalpattu | 12.684089 | 79.983637 | Changalpettu Bus Stand | 12.692468 | 79.979310 | Bus Station\n",
    "| 3 | Chengalpattu | 12.684089 | 79.983637 | Chengalpet To Beach Train | 12.693512 | 79.981451 | Light Rail Station\n",
    "| 4 | Chengalpattu | 12.684089 | 79.983637 | Kolavai Lake | 12.710869 | 79.980555 | Lake"
   ]
  },
  {
   "cell_type": "markdown",
   "metadata": {},
   "source": [
    "### 2.2 Data Cleaning"
   ]
  },
  {
   "cell_type": "markdown",
   "metadata": {},
   "source": [
    "The Data from the wikipedia is scraped by using **pandas** library. The scraped data contains various tables. The table which contains the list of Districts is extracted and than converted into pandas **DataFrame**.\n",
    "only the Districts name, Code, population and area features are selected."
   ]
  },
  {
   "cell_type": "markdown",
   "metadata": {},
   "source": [
    "# 3. Exploratory Data Analysis"
   ]
  },
  {
   "cell_type": "code",
   "execution_count": null,
   "metadata": {},
   "outputs": [],
   "source": []
  }
 ],
 "metadata": {
  "kernelspec": {
   "display_name": "Python 3",
   "language": "python",
   "name": "python3"
  },
  "language_info": {
   "codemirror_mode": {
    "name": "ipython",
    "version": 3
   },
   "file_extension": ".py",
   "mimetype": "text/x-python",
   "name": "python",
   "nbconvert_exporter": "python",
   "pygments_lexer": "ipython3",
   "version": "3.8.5"
  }
 },
 "nbformat": 4,
 "nbformat_minor": 4
}
